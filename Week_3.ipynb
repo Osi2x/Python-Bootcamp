{
  "nbformat": 4,
  "nbformat_minor": 0,
  "metadata": {
    "colab": {
      "provenance": [],
      "toc_visible": true,
      "authorship_tag": "ABX9TyMwhn/qcfZ1AcVl1OzF2TYZ",
      "include_colab_link": true
    },
    "kernelspec": {
      "name": "python3",
      "display_name": "Python 3"
    },
    "language_info": {
      "name": "python"
    }
  },
  "cells": [
    {
      "cell_type": "markdown",
      "metadata": {
        "id": "view-in-github",
        "colab_type": "text"
      },
      "source": [
        "<a href=\"https://colab.research.google.com/github/Osi2x/Python-Bootcamp/blob/main/Week_3.ipynb\" target=\"_parent\"><img src=\"https://colab.research.google.com/assets/colab-badge.svg\" alt=\"Open In Colab\"/></a>"
      ]
    },
    {
      "cell_type": "markdown",
      "source": [
        "#Dictionaries and Sets"
      ],
      "metadata": {
        "id": "Cu-NKpm8pKWB"
      }
    },
    {
      "cell_type": "code",
      "execution_count": 28,
      "metadata": {
        "colab": {
          "base_uri": "https://localhost:8080/"
        },
        "id": "ierxBqXSMPL-",
        "outputId": "52412fec-3cc7-40b2-d768-0b7956f62f5b"
      },
      "outputs": [
        {
          "output_type": "stream",
          "name": "stdout",
          "text": [
            "'Margot' key does not exist\n",
            "'NoneType' object has no attribute 'get' Something Went wrong\n",
            "None\n"
          ]
        }
      ],
      "source": [
        "grades = {\n",
        "    'Kayla' : {\n",
        "        'math' : [90,80,30,20],\n",
        "        'science' : [94,93,92,91],\n",
        "        'history' : [12,23,23,45],\n",
        "        'reading' : [54,23,23,54]\n",
        "    },\n",
        "    'Caleb' : {\n",
        "        'math' : [90,80,30,20],\n",
        "        'science' : [94,67,92,81],\n",
        "        'history' : [14,23,75,45],\n",
        "        'reading' : [54,82,65,91]\n",
        "    },\n",
        "    'Osi'   : {\n",
        "        'math' : [90,80,90,79],\n",
        "        'science' : [83,78,79,86],\n",
        "        'history' : [72,74,73,79],\n",
        "        'reading' : [81,92,95,93]\n",
        "    }\n",
        "}\n",
        "\n",
        "try:\n",
        "  grades['Margot']\n",
        "except KeyError as k:\n",
        "  print(k, 'key does not exist')\n",
        "\n",
        "try:\n",
        "  grades.get('margot').get('math')\n",
        "except Exception as e:\n",
        "  print(e, 'Something Went wrong')\n",
        "\n",
        "\n",
        "print(grades.get('Margot', {}).get('math'))"
      ]
    },
    {
      "cell_type": "markdown",
      "source": [
        "#Iterate Through a dictionary"
      ],
      "metadata": {
        "id": "oemhb6p5S4Xw"
      }
    },
    {
      "cell_type": "code",
      "source": [
        "drinks_in_storage = {\n",
        "    'grape' : 5,\n",
        "    'black cherry': 3,\n",
        "    'cola': 4\n",
        "}\n",
        "\n",
        "for drink, val in drinks_in_storage.items():\n",
        "  print(drink,val)\n",
        "\n",
        "drinks_purchased = [['grape',3], ['black cherry', 1], ['cola', 5], ['orange', 12]]\n",
        "\n",
        "for drink in drinks_purchased:\n",
        "  if drinks_in_storage.get(drink[0]):\n",
        "    drinks_in_storage[drink[0]] += drink[1]\n",
        "  else:\n",
        "    drinks_in_storage[drink[0]] = drink[1]\n",
        "\n",
        "print(drinks_in_storage)"
      ],
      "metadata": {
        "colab": {
          "base_uri": "https://localhost:8080/"
        },
        "id": "01nqR2k6S4CC",
        "outputId": "7709a8d0-80f6-4cc9-eca7-15028b3beba8"
      },
      "execution_count": 38,
      "outputs": [
        {
          "output_type": "stream",
          "name": "stdout",
          "text": [
            "grape 5\n",
            "black cherry 3\n",
            "cola 4\n",
            "{'grape': 8, 'black cherry': 4, 'cola': 9, 'orange': 12}\n"
          ]
        }
      ]
    },
    {
      "cell_type": "code",
      "source": [
        "from collections import defaultdict\n",
        "\n",
        "drinks_in_storage = {\n",
        "    'grape' : 5,\n",
        "    'black cherry': 3,\n",
        "    'cola': 4\n",
        "}\n",
        "\n",
        "drinks_in_storage = defaultdict(int, drinks_in_storage)\n",
        "\n",
        "drinks_purchased = [['grape',3], ['black cherry', 1], ['cola', 5], ['orange', 12]]\n",
        "\n",
        "for drink in drinks_purchased:\n",
        "  drinks_in_storage[drink[0]] += drink[1]\n",
        "\n",
        "  print(drinks_in_storage)\n",
        "\n",
        "for drink, val in drinks_in_storage.items():\n",
        "  print(f'{val} {drink} drinks')\n",
        ""
      ],
      "metadata": {
        "colab": {
          "base_uri": "https://localhost:8080/"
        },
        "id": "CQPWrdnvS3Xm",
        "outputId": "ec5ef5a3-4669-4375-e223-d6403dcbd69d"
      },
      "execution_count": 46,
      "outputs": [
        {
          "output_type": "stream",
          "name": "stdout",
          "text": [
            "defaultdict(<class 'int'>, {'grape': 8, 'black cherry': 3, 'cola': 4})\n",
            "defaultdict(<class 'int'>, {'grape': 8, 'black cherry': 4, 'cola': 4})\n",
            "defaultdict(<class 'int'>, {'grape': 8, 'black cherry': 4, 'cola': 9})\n",
            "defaultdict(<class 'int'>, {'grape': 8, 'black cherry': 4, 'cola': 9, 'orange': 12})\n",
            "8 grape drinks\n",
            "4 black cherry drinks\n",
            "9 cola drinks\n",
            "12 orange drinks\n"
          ]
        }
      ]
    },
    {
      "cell_type": "code",
      "source": [
        "favorite_drinks = {}\n",
        "\n",
        "while True:\n",
        "  (print('Q to quit anytime'))\n",
        "  drink = input(\"Enter Drink name:\")\n",
        "  if str.lower(drink) == 'q':\n",
        "    break\n",
        "  amount = int(input(\"How many?: \"))\n",
        "  if str.lower(drink) == 'q':\n",
        "    break\n",
        "\n",
        "  favorite_drinks[drink] = amount\n",
        "  print(favorite_drinks)\n",
        "\n",
        "print(\"final drinks:\", favorite_drinks)"
      ],
      "metadata": {
        "colab": {
          "base_uri": "https://localhost:8080/",
          "height": 388
        },
        "id": "ehst_sHQjQ4_",
        "outputId": "e6e2d7dc-d64c-4145-e943-735c038c8413"
      },
      "execution_count": 51,
      "outputs": [
        {
          "output_type": "stream",
          "name": "stdout",
          "text": [
            "Q to quit anytime\n"
          ]
        },
        {
          "output_type": "error",
          "ename": "KeyboardInterrupt",
          "evalue": "Interrupted by user",
          "traceback": [
            "\u001b[0;31m---------------------------------------------------------------------------\u001b[0m",
            "\u001b[0;31mKeyboardInterrupt\u001b[0m                         Traceback (most recent call last)",
            "\u001b[0;32m<ipython-input-51-a4291be8eb59>\u001b[0m in \u001b[0;36m<cell line: 3>\u001b[0;34m()\u001b[0m\n\u001b[1;32m      3\u001b[0m \u001b[0;32mwhile\u001b[0m \u001b[0;32mTrue\u001b[0m\u001b[0;34m:\u001b[0m\u001b[0;34m\u001b[0m\u001b[0;34m\u001b[0m\u001b[0m\n\u001b[1;32m      4\u001b[0m   \u001b[0;34m(\u001b[0m\u001b[0mprint\u001b[0m\u001b[0;34m(\u001b[0m\u001b[0;34m'Q to quit anytime'\u001b[0m\u001b[0;34m)\u001b[0m\u001b[0;34m)\u001b[0m\u001b[0;34m\u001b[0m\u001b[0;34m\u001b[0m\u001b[0m\n\u001b[0;32m----> 5\u001b[0;31m   \u001b[0mdrink\u001b[0m \u001b[0;34m=\u001b[0m \u001b[0minput\u001b[0m\u001b[0;34m(\u001b[0m\u001b[0;34m\"Enter Drink name:\"\u001b[0m\u001b[0;34m)\u001b[0m\u001b[0;34m\u001b[0m\u001b[0;34m\u001b[0m\u001b[0m\n\u001b[0m\u001b[1;32m      6\u001b[0m   \u001b[0;32mif\u001b[0m \u001b[0mstr\u001b[0m\u001b[0;34m.\u001b[0m\u001b[0mlower\u001b[0m\u001b[0;34m(\u001b[0m\u001b[0mdrink\u001b[0m\u001b[0;34m)\u001b[0m \u001b[0;34m==\u001b[0m \u001b[0;34m'q'\u001b[0m\u001b[0;34m:\u001b[0m\u001b[0;34m\u001b[0m\u001b[0;34m\u001b[0m\u001b[0m\n\u001b[1;32m      7\u001b[0m     \u001b[0;32mbreak\u001b[0m\u001b[0;34m\u001b[0m\u001b[0;34m\u001b[0m\u001b[0m\n",
            "\u001b[0;32m/usr/local/lib/python3.10/dist-packages/ipykernel/kernelbase.py\u001b[0m in \u001b[0;36mraw_input\u001b[0;34m(self, prompt)\u001b[0m\n\u001b[1;32m    849\u001b[0m                 \u001b[0;34m\"raw_input was called, but this frontend does not support input requests.\"\u001b[0m\u001b[0;34m\u001b[0m\u001b[0;34m\u001b[0m\u001b[0m\n\u001b[1;32m    850\u001b[0m             )\n\u001b[0;32m--> 851\u001b[0;31m         return self._input_request(str(prompt),\n\u001b[0m\u001b[1;32m    852\u001b[0m             \u001b[0mself\u001b[0m\u001b[0;34m.\u001b[0m\u001b[0m_parent_ident\u001b[0m\u001b[0;34m,\u001b[0m\u001b[0;34m\u001b[0m\u001b[0;34m\u001b[0m\u001b[0m\n\u001b[1;32m    853\u001b[0m             \u001b[0mself\u001b[0m\u001b[0;34m.\u001b[0m\u001b[0m_parent_header\u001b[0m\u001b[0;34m,\u001b[0m\u001b[0;34m\u001b[0m\u001b[0;34m\u001b[0m\u001b[0m\n",
            "\u001b[0;32m/usr/local/lib/python3.10/dist-packages/ipykernel/kernelbase.py\u001b[0m in \u001b[0;36m_input_request\u001b[0;34m(self, prompt, ident, parent, password)\u001b[0m\n\u001b[1;32m    893\u001b[0m             \u001b[0;32mexcept\u001b[0m \u001b[0mKeyboardInterrupt\u001b[0m\u001b[0;34m:\u001b[0m\u001b[0;34m\u001b[0m\u001b[0;34m\u001b[0m\u001b[0m\n\u001b[1;32m    894\u001b[0m                 \u001b[0;31m# re-raise KeyboardInterrupt, to truncate traceback\u001b[0m\u001b[0;34m\u001b[0m\u001b[0;34m\u001b[0m\u001b[0m\n\u001b[0;32m--> 895\u001b[0;31m                 \u001b[0;32mraise\u001b[0m \u001b[0mKeyboardInterrupt\u001b[0m\u001b[0;34m(\u001b[0m\u001b[0;34m\"Interrupted by user\"\u001b[0m\u001b[0;34m)\u001b[0m \u001b[0;32mfrom\u001b[0m \u001b[0;32mNone\u001b[0m\u001b[0;34m\u001b[0m\u001b[0;34m\u001b[0m\u001b[0m\n\u001b[0m\u001b[1;32m    896\u001b[0m             \u001b[0;32mexcept\u001b[0m \u001b[0mException\u001b[0m \u001b[0;32mas\u001b[0m \u001b[0me\u001b[0m\u001b[0;34m:\u001b[0m\u001b[0;34m\u001b[0m\u001b[0;34m\u001b[0m\u001b[0m\n\u001b[1;32m    897\u001b[0m                 \u001b[0mself\u001b[0m\u001b[0;34m.\u001b[0m\u001b[0mlog\u001b[0m\u001b[0;34m.\u001b[0m\u001b[0mwarning\u001b[0m\u001b[0;34m(\u001b[0m\u001b[0;34m\"Invalid Message:\"\u001b[0m\u001b[0;34m,\u001b[0m \u001b[0mexc_info\u001b[0m\u001b[0;34m=\u001b[0m\u001b[0;32mTrue\u001b[0m\u001b[0;34m)\u001b[0m\u001b[0;34m\u001b[0m\u001b[0;34m\u001b[0m\u001b[0m\n",
            "\u001b[0;31mKeyboardInterrupt\u001b[0m: Interrupted by user"
          ]
        }
      ]
    },
    {
      "cell_type": "code",
      "source": [
        "my_drinks = {\n",
        "    'Peach' : 5,\n",
        "    'Strawberry' : 4,\n",
        "    'Pineapple' : 5,\n",
        "    'sprite': 3\n",
        "}\n",
        "\n",
        "her_drinks = {\n",
        "    'coconut' : 5,\n",
        "    'lime' : 4,\n",
        "    'sprite' : 5,\n",
        "    'ginger beer' : 3\n",
        "}\n",
        "\n",
        "my_drinks.update(her_drinks)\n",
        "print(my_drinks)"
      ],
      "metadata": {
        "colab": {
          "base_uri": "https://localhost:8080/"
        },
        "id": "ZQqUhVrNk8a-",
        "outputId": "94049000-e8d6-4ecf-cb6b-c28a10a516f1"
      },
      "execution_count": 53,
      "outputs": [
        {
          "output_type": "stream",
          "name": "stdout",
          "text": [
            "{'Peach': 5, 'Strawberry': 4, 'Pineapple': 5, 'sprite': 5, 'coconut': 5, 'lime': 4, 'ginger beer': 3}\n"
          ]
        }
      ]
    },
    {
      "cell_type": "code",
      "source": [
        "import platform\n",
        "platform.python_version"
      ],
      "metadata": {
        "colab": {
          "base_uri": "https://localhost:8080/",
          "height": 173
        },
        "id": "xAXObHUWmxmF",
        "outputId": "f5596d12-a62c-4e30-9134-78a4b62fbd0b"
      },
      "execution_count": 54,
      "outputs": [
        {
          "output_type": "execute_result",
          "data": {
            "text/plain": [
              "<function platform.python_version()>"
            ],
            "text/html": [
              "<div style=\"max-width:800px; border: 1px solid var(--colab-border-color);\"><style>\n",
              "      pre.function-repr-contents {\n",
              "        overflow-x: auto;\n",
              "        padding: 8px 12px;\n",
              "        max-height: 500px;\n",
              "      }\n",
              "\n",
              "      pre.function-repr-contents.function-repr-contents-collapsed {\n",
              "        cursor: pointer;\n",
              "        max-height: 100px;\n",
              "      }\n",
              "    </style>\n",
              "    <pre style=\"white-space: initial; background:\n",
              "         var(--colab-secondary-surface-color); padding: 8px 12px;\n",
              "         border-bottom: 1px solid var(--colab-border-color);\"><b>platform.python_version</b><br/>def python_version()</pre><pre class=\"function-repr-contents function-repr-contents-collapsed\" style=\"\"><a class=\"filepath\" style=\"display:none\" href=\"#\">/usr/lib/python3.10/platform.py</a>Returns the Python version as string &#x27;major.minor.patchlevel&#x27;\n",
              "\n",
              "Note that unlike the Python sys.version, the returned value\n",
              "will always include the patchlevel (it defaults to 0).</pre>\n",
              "      <script>\n",
              "      if (google.colab.kernel.accessAllowed && google.colab.files && google.colab.files.view) {\n",
              "        for (const element of document.querySelectorAll('.filepath')) {\n",
              "          element.style.display = 'block'\n",
              "          element.onclick = (event) => {\n",
              "            event.preventDefault();\n",
              "            event.stopPropagation();\n",
              "            google.colab.files.view(element.textContent, 1108);\n",
              "          };\n",
              "        }\n",
              "      }\n",
              "      for (const element of document.querySelectorAll('.function-repr-contents')) {\n",
              "        element.onclick = (event) => {\n",
              "          event.preventDefault();\n",
              "          event.stopPropagation();\n",
              "          element.classList.toggle('function-repr-contents-collapsed');\n",
              "        };\n",
              "      }\n",
              "      </script>\n",
              "      </div>"
            ]
          },
          "metadata": {},
          "execution_count": 54
        }
      ]
    },
    {
      "cell_type": "code",
      "source": [
        "import platform\n",
        "if int(platform.python_version()[2]) >= 9:\n",
        "  my_drinks = {\n",
        "    'Peach' : 5,\n",
        "    'Strawberry' : 4,\n",
        "    'Pineapple' : 5,\n",
        "    'sprite': 3\n",
        "  }\n",
        "\n",
        "  her_drinks = {\n",
        "    'coconut' : 5,\n",
        "    'lime' : 4,\n",
        "    'sprite' : 5,\n",
        "    'ginger beer' : 3\n",
        "  }\n",
        "\n",
        "  print(my_drinks|her_drinks)\n",
        "else:\n",
        "  print(\"python is\", platform.python_version())"
      ],
      "metadata": {
        "colab": {
          "base_uri": "https://localhost:8080/"
        },
        "id": "aCTVgLwFm6Ki",
        "outputId": "1a4742ff-2552-419e-9ee4-0f7acb4a7684"
      },
      "execution_count": 60,
      "outputs": [
        {
          "output_type": "stream",
          "name": "stdout",
          "text": [
            "python is 3.10.12\n"
          ]
        }
      ]
    },
    {
      "cell_type": "code",
      "source": [
        "my_drinks = {'grape', 'cola', 'black cherry'}\n",
        "her_drinks = {'lime', 'cola'}\n",
        "\n",
        "print(my_drinks, her_drinks)\n",
        "\n",
        "print(\"Union\", my_drinks|her_drinks)\n",
        "print(\"Intersection\", my_drinks&her_drinks)\n",
        "print(\"Difference\", my_drinks-her_drinks)\n",
        "print(\"Summetric Difference\", my_drinks^her_drinks)"
      ],
      "metadata": {
        "colab": {
          "base_uri": "https://localhost:8080/"
        },
        "id": "cVaGO-JeoOx9",
        "outputId": "d879e366-8310-424d-8cd0-712384eefdac"
      },
      "execution_count": 62,
      "outputs": [
        {
          "output_type": "stream",
          "name": "stdout",
          "text": [
            "{'grape', 'black cherry', 'cola'} {'lime', 'cola'}\n",
            "Union {'grape', 'lime', 'black cherry', 'cola'}\n",
            "Intersection {'cola'}\n",
            "Difference {'grape', 'black cherry'}\n",
            "Summetric Difference {'grape', 'lime', 'black cherry'}\n"
          ]
        }
      ]
    },
    {
      "cell_type": "code",
      "source": [
        "dollars = int(input(\"How many dollars do you have? \"))\n",
        "price = 16013\n",
        "\n",
        "print(f'You can buy {dollars/ price} bitcoin')"
      ],
      "metadata": {
        "colab": {
          "base_uri": "https://localhost:8080/"
        },
        "id": "wJaefMAIfgmx",
        "outputId": "3f4cc322-790a-4584-f64f-8c42e986d330"
      },
      "execution_count": 8,
      "outputs": [
        {
          "output_type": "stream",
          "name": "stdout",
          "text": [
            "How many dollars do you have? 19000\n",
            "You can buy 1.1865359395491164 bitcoin\n"
          ]
        }
      ]
    },
    {
      "cell_type": "code",
      "source": [
        "import requests\n",
        "\n",
        "dollars = int(input(\"How many dollars do you have? \"))\n",
        "response = requests.get('http://api.coindesk.com/v1/bpi/currentprice.json')\n",
        "\n",
        "price = response.json().get('bpi').get('USD').get('rate_float')\n",
        "\n",
        "print(f'You can buy {dollars/ price} bitcoin')"
      ],
      "metadata": {
        "colab": {
          "base_uri": "https://localhost:8080/"
        },
        "id": "dWLa9eGngUGZ",
        "outputId": "7cb72ff9-7863-43c6-e831-35354d6aafe8"
      },
      "execution_count": 9,
      "outputs": [
        {
          "output_type": "stream",
          "name": "stdout",
          "text": [
            "How many dollars do you have? 19000\n",
            "You can buy 0.30587183579851973 bitcoin\n"
          ]
        }
      ]
    },
    {
      "cell_type": "code",
      "source": [
        "from pprint import pprint\n",
        "from decimal import Decimal\n",
        "\n",
        "response = requests.get('http://api.coindesk.com/v1/bpi/currentprice.json')\n",
        "#pprint(response.json())\n",
        "price = Decimal(response.json().get('bpi').get('USD').get('rate').replace(',', ''))\n",
        "print(price)\n"
      ],
      "metadata": {
        "colab": {
          "base_uri": "https://localhost:8080/"
        },
        "id": "pHtuH7K_iquC",
        "outputId": "5079576e-b3a7-4ec5-dc02-080e41ad9289"
      },
      "execution_count": 14,
      "outputs": [
        {
          "output_type": "stream",
          "name": "stdout",
          "text": [
            "62155.332\n"
          ]
        }
      ]
    },
    {
      "cell_type": "markdown",
      "source": [
        "#Price Checker"
      ],
      "metadata": {
        "id": "uECK2DM6jq5M"
      }
    },
    {
      "cell_type": "code",
      "source": [
        "def get_coin_id(symbol):\n",
        "  response = requests.get('https://pro-api.coinmarketcap.com/v1/cryptocurrency/map?CMC_PRO_API_KEY=2f063627-0bf5-402a-8699-2c4591147ad3&symbol=' + symbol)\n",
        "  return response.json().get('data')[0].get('id')\n",
        "\n",
        "coin_id = get_coin_id('ETH')\n",
        "print(coin_id)\n",
        "\n",
        "def get_coin_price(coin_id):\n",
        "  url = 'https://pro-api.coinmarketcap.com/v2/cryptocurrency/quotes/latest'\n",
        "  key = '2f063627-0bf5-402a-8699-2c4591147ad3'\n",
        "  response = requests.get(f'{url}?CMC_PRO_API_KEY={key}&id={coin_id}')\n",
        "  return response.json().get('data').get(str(coin_id)).get('quote').get('USD').get('price')\n",
        "\n",
        "try:\n",
        "  coin = input(\"give me a crypto symbol: \")\n",
        "  coin_id = get_coin_id(coin)\n",
        "  price = get_coin_price(coin_id)\n",
        "  print(f'One {coin} is worth ${round(price, 2)}')\n",
        "except Exception as e:\n",
        "  print('Error checking coin Price', e)"
      ],
      "metadata": {
        "colab": {
          "base_uri": "https://localhost:8080/"
        },
        "id": "Cy7PdveMjutK",
        "outputId": "fb6a2009-17de-453d-b6c2-53482f20afd6"
      },
      "execution_count": 35,
      "outputs": [
        {
          "output_type": "stream",
          "name": "stdout",
          "text": [
            "1027\n",
            "give me a crypto symbol: ETH\n",
            "One ETH is worth $3439.81\n"
          ]
        }
      ]
    },
    {
      "cell_type": "markdown",
      "source": [
        "#Passing with paramaters and headers"
      ],
      "metadata": {
        "id": "KT0C9GDctw7u"
      }
    },
    {
      "cell_type": "code",
      "source": [
        "def get_coin_id(symbol):\n",
        "  url = 'https://pro-api.coinmarketcap.com/v1/cryptocurrency/map'\n",
        "\n",
        "  params = {\n",
        "      'symbol' : symbol\n",
        "  }\n",
        "\n",
        "  headers = {\n",
        "      'Accepts': 'application/json',\n",
        "      'X-CMC_PRO_API_KEY': '2f063627-0bf5-402a-8699-2c4591147ad3'\n",
        "  }\n",
        "  response = requests.get(url, params=params, headers=headers)\n",
        "  return response.json().get('data')[0].get('id')\n",
        "\n",
        "coin_id = get_coin_id('ETH')\n",
        "print(coin_id)"
      ],
      "metadata": {
        "colab": {
          "base_uri": "https://localhost:8080/"
        },
        "id": "7T4B1v6AtW1K",
        "outputId": "314fdbaf-9202-4f81-f483-4de1a4866d6d"
      },
      "execution_count": 38,
      "outputs": [
        {
          "output_type": "stream",
          "name": "stdout",
          "text": [
            "1027\n"
          ]
        }
      ]
    },
    {
      "cell_type": "code",
      "source": [
        "start = input('Starting Currency: ')\n",
        "amount = float(input('How many? '))\n",
        "end = input('Destination Currency: ')\n",
        "\n",
        "price1 = get_coin_price(get_coin_id(start))\n",
        "price2 = get_coin_price(get_coin_id(end))\n",
        "print(f'{amount} {start} buys {round(price1 * amount / price2, 2)} {end}')"
      ],
      "metadata": {
        "colab": {
          "base_uri": "https://localhost:8080/"
        },
        "id": "HoGMpe_cxMCa",
        "outputId": "06f755c1-da49-4069-ac86-9fe793f15628"
      },
      "execution_count": 47,
      "outputs": [
        {
          "output_type": "stream",
          "name": "stdout",
          "text": [
            "Starting Currency: BTC\n",
            "How many? 1\n",
            "Destination Currency: ETH\n",
            "1.0 BTC buys 18.07 ETH\n"
          ]
        }
      ]
    },
    {
      "cell_type": "markdown",
      "source": [
        "#Object Oriented Programming\n",
        "##Solving Mazes\n",
        "---\n",
        "\n"
      ],
      "metadata": {
        "id": "eEbMiUt3yxKl"
      }
    },
    {
      "cell_type": "code",
      "source": [
        "from collections import namedtuple\n",
        "class Maze:\n",
        "  def __init__(self, maze = None, start=None, end=None):\n",
        "    self.maze = maze\n",
        "    self.start = start\n",
        "    self.end = end\n",
        "\n",
        "  def __str__(self):\n",
        "    data = ''\n",
        "    for i, row in enumerate(self.maze):\n",
        "      if i == 0:\n",
        "        data += 'X' * (len(row) +2) + '\\n'\n",
        "      for j, col in enumerate(row):\n",
        "        if j == 0:\n",
        "          data += 'X'\n",
        "\n",
        "        if (i,j) == (self.start.row, self.start.col):\n",
        "          data += '*'\n",
        "        elif (i,j) == (self.end.row, self.end.col):\n",
        "          data += '*'\n",
        "        elif col == 1:\n",
        "          data += ' '\n",
        "        else:\n",
        "          data += 'x'\n",
        "        if j == len(row) - 1:\n",
        "          data += 'X'\n",
        "      data += '\\n'\n",
        "      if i == len(row) - 1:\n",
        "        data += 'X' * (len(row) +2) + '\\n'\n",
        "    return(data)\n",
        "\n",
        "  def valid_idex(self,position):\n",
        "    if position.col < 0 or position.col >= len(self.maze[0]):\n",
        "      return False\n",
        "    elif position.row < 0 or position.row >= len(self.maze):\n",
        "      return False\n",
        "    elif self.maze[position.row][position.col] == 0:\n",
        "      return False\n",
        "\n",
        "    return True\n",
        "\n",
        "  @property\n",
        "  def solution(self):\n",
        "    current = self.start\n",
        "    path = [current]\n",
        "\n",
        "    while True:\n",
        "      current = path[-1]\n",
        "      import time\n",
        "      time.sleep(1)\n",
        "\n",
        "      self.maze[current.row][current.col] = 0\n",
        " #     print(self)\n",
        "      print(current, self.end)\n",
        "      if current == self.end:\n",
        "        return path\n",
        "\n",
        "      #move left\n",
        "      elif self.valid_idex(Maze.Position(row=current.row, col=current.col-1)):\n",
        "       current = Maze.Position(row=current.row, col=current.col-1)\n",
        "       path.append(current)\n",
        "       print('moving left')\n",
        "       continue\n",
        "\n",
        "      #up\n",
        "      elif self.valid_idex(Maze.Position(row=current.row-1, col=current.col)):\n",
        "       current = Maze.Position(row=current.row-1, col=current.col)\n",
        "       path.append(current)\n",
        "       print('moving up')\n",
        "       continue\n",
        "\n",
        "      #right\n",
        "      elif self.valid_idex(Maze.Position(row=current.row, col=current.col+1)):\n",
        "       current = Maze.Position(row=current.row, col=current.col+1)\n",
        "       path.append(current)\n",
        "       print('moving right')\n",
        "       continue\n",
        "\n",
        "      #down\n",
        "      elif self.valid_idex(Maze.Position(row=current.row+1, col=current.col)):\n",
        "       current = Maze.Position(row=current.row+1, col=current.col)\n",
        "       path.append(current)\n",
        "       print('moving down')\n",
        "       continue\n",
        "\n",
        "\n",
        "      path.pop()\n",
        "      print('popping off stack')\n",
        "      if len(path) == 0:\n",
        "        return []\n",
        "\n",
        "\n",
        "\n",
        "\n",
        "  Position = namedtuple('Position', ['row', 'col'])\n",
        "\n",
        "start = Maze.Position(row=0, col=1)\n",
        "end = Maze.Position(row=3, col=3)\n",
        "\n",
        "maze_structure = [\n",
        "    [1, 1, 1,1],\n",
        "    [1, 0, 1,1],\n",
        "    [1, 0, 0,1],\n",
        "    [1, 1, 0,1]\n",
        "\n",
        "]\n",
        "maze = Maze(maze_structure, start, end)\n",
        "for position in maze.solution:\n",
        "  print(position)"
      ],
      "metadata": {
        "colab": {
          "base_uri": "https://localhost:8080/"
        },
        "id": "EEAOpQh_xQ_C",
        "outputId": "47e9213b-674e-4062-a0a4-2d5103d94edb"
      },
      "execution_count": 64,
      "outputs": [
        {
          "output_type": "stream",
          "name": "stdout",
          "text": [
            "Position(row=0, col=1) Position(row=3, col=3)\n",
            "moving left\n",
            "Position(row=0, col=0) Position(row=3, col=3)\n",
            "moving down\n",
            "Position(row=1, col=0) Position(row=3, col=3)\n",
            "moving down\n",
            "Position(row=2, col=0) Position(row=3, col=3)\n",
            "moving down\n",
            "Position(row=3, col=0) Position(row=3, col=3)\n",
            "moving right\n",
            "Position(row=3, col=1) Position(row=3, col=3)\n",
            "popping off stack\n",
            "Position(row=3, col=0) Position(row=3, col=3)\n",
            "popping off stack\n",
            "Position(row=2, col=0) Position(row=3, col=3)\n",
            "popping off stack\n",
            "Position(row=1, col=0) Position(row=3, col=3)\n",
            "popping off stack\n",
            "Position(row=0, col=0) Position(row=3, col=3)\n",
            "popping off stack\n",
            "Position(row=0, col=1) Position(row=3, col=3)\n",
            "moving right\n",
            "Position(row=0, col=2) Position(row=3, col=3)\n",
            "moving right\n",
            "Position(row=0, col=3) Position(row=3, col=3)\n",
            "moving down\n",
            "Position(row=1, col=3) Position(row=3, col=3)\n",
            "moving left\n",
            "Position(row=1, col=2) Position(row=3, col=3)\n",
            "popping off stack\n",
            "Position(row=1, col=3) Position(row=3, col=3)\n",
            "moving down\n",
            "Position(row=2, col=3) Position(row=3, col=3)\n",
            "moving down\n",
            "Position(row=3, col=3) Position(row=3, col=3)\n",
            "Position(row=0, col=1)\n",
            "Position(row=0, col=2)\n",
            "Position(row=0, col=3)\n",
            "Position(row=1, col=3)\n",
            "Position(row=2, col=3)\n",
            "Position(row=3, col=3)\n"
          ]
        }
      ]
    },
    {
      "cell_type": "code",
      "source": [
        "!cp /content/Python/Coding\\ w\\ Caleb/Maze\\ Module/mazesolver.py ."
      ],
      "metadata": {
        "id": "84LbV_VPcTq_"
      },
      "execution_count": 69,
      "outputs": []
    },
    {
      "cell_type": "code",
      "source": [],
      "metadata": {
        "id": "NXNuK-LAdAr7"
      },
      "execution_count": null,
      "outputs": []
    },
    {
      "cell_type": "code",
      "source": [
        "import sys\n",
        "sys.path.append('/content/Python/Coding w Caleb/Maze Module/')\n",
        "import mazesolver\n",
        "\n",
        "help(mazesolver)"
      ],
      "metadata": {
        "colab": {
          "base_uri": "https://localhost:8080/"
        },
        "id": "TArr4siSc5oc",
        "outputId": "a0f037f6-99b9-42a4-ae0c-2f10598acc51"
      },
      "execution_count": 1,
      "outputs": [
        {
          "output_type": "stream",
          "name": "stdout",
          "text": [
            "Help on module mazesolver:\n",
            "\n",
            "NAME\n",
            "    mazesolver\n",
            "\n",
            "CLASSES\n",
            "    builtins.object\n",
            "        Maze\n",
            "    \n",
            "    class Maze(builtins.object)\n",
            "     |  Maze(maze=None, start=None, end=None)\n",
            "     |  \n",
            "     |  Methods defined here:\n",
            "     |  \n",
            "     |  __init__(self, maze=None, start=None, end=None)\n",
            "     |      Initialize self.  See help(type(self)) for accurate signature.\n",
            "     |  \n",
            "     |  __str__(self)\n",
            "     |      Return str(self).\n",
            "     |  \n",
            "     |  valid_idex(self, position)\n",
            "     |  \n",
            "     |  ----------------------------------------------------------------------\n",
            "     |  Readonly properties defined here:\n",
            "     |  \n",
            "     |  solution\n",
            "     |  \n",
            "     |  ----------------------------------------------------------------------\n",
            "     |  Data descriptors defined here:\n",
            "     |  \n",
            "     |  __dict__\n",
            "     |      dictionary for instance variables (if defined)\n",
            "     |  \n",
            "     |  __weakref__\n",
            "     |      list of weak references to the object (if defined)\n",
            "     |  \n",
            "     |  ----------------------------------------------------------------------\n",
            "     |  Data and other attributes defined here:\n",
            "     |  \n",
            "     |  Position = <class 'mazesolver.Position'>\n",
            "     |      Position(row, col)\n",
            "\n",
            "FILE\n",
            "    /content/Python/Coding w Caleb/Maze Module/mazesolver.py\n",
            "\n",
            "\n"
          ]
        }
      ]
    },
    {
      "cell_type": "code",
      "source": [
        "dir (mazesolver)"
      ],
      "metadata": {
        "colab": {
          "base_uri": "https://localhost:8080/"
        },
        "id": "pBBWVgALd43E",
        "outputId": "71fa6dff-65a2-494a-8c5d-a807501cae48"
      },
      "execution_count": 3,
      "outputs": [
        {
          "output_type": "execute_result",
          "data": {
            "text/plain": [
              "['Maze',\n",
              " '__builtins__',\n",
              " '__cached__',\n",
              " '__doc__',\n",
              " '__file__',\n",
              " '__loader__',\n",
              " '__name__',\n",
              " '__package__',\n",
              " '__spec__',\n",
              " 'namedtuple']"
            ]
          },
          "metadata": {},
          "execution_count": 3
        }
      ]
    },
    {
      "cell_type": "code",
      "source": [
        "import sys\n",
        "sys.path.append('/content/Python/Coding w Caleb/Maze Module/')\n",
        "from mazesolver import Maze\n",
        "\n",
        "start = Maze.Position(row=0, col=1)\n",
        "end = Maze.Position(row=3, col=3)\n",
        "\n",
        "maze_structure = [\n",
        "    [1, 1, 1,1],\n",
        "    [1, 0, 1,1],\n",
        "    [1, 0, 0,1],\n",
        "    [1, 1, 0,1]\n",
        "\n",
        "]\n",
        "maze = Maze(maze_structure, start, end)\n",
        "for position in maze.solution:\n",
        "  print(position)"
      ],
      "metadata": {
        "colab": {
          "base_uri": "https://localhost:8080/"
        },
        "id": "TUS-cJ56cIyl",
        "outputId": "96a5fd79-fe86-4c22-92ea-897ddbd08a13"
      },
      "execution_count": 1,
      "outputs": [
        {
          "output_type": "stream",
          "name": "stdout",
          "text": [
            "popping off stack\n",
            "popping off stack\n",
            "popping off stack\n",
            "popping off stack\n",
            "popping off stack\n",
            "popping off stack\n",
            "Position(row=0, col=1)\n",
            "Position(row=0, col=2)\n",
            "Position(row=0, col=3)\n",
            "Position(row=1, col=3)\n",
            "Position(row=2, col=3)\n",
            "Position(row=3, col=3)\n"
          ]
        }
      ]
    },
    {
      "cell_type": "code",
      "source": [
        "import sys\n",
        "import json\n",
        "sys.path.append('/content/Python/Coding w Caleb/Maze Module/')\n",
        "from mazesolver import Maze\n",
        "\n",
        "with open('/content/Python/Coding w Caleb/Maze Module/mazes.json') as f:\n",
        "  data = json.load(f)\n",
        "\n",
        "print(data)\n",
        "\n",
        "\n",
        "mazes = []\n",
        "\n",
        "for maze in data.get('mazes'):\n",
        "  maze_structure = maze.get('structure')\n",
        "  start = Maze.Position(maze.get('start').get('row'), maze.get('start').get('col'))\n",
        "  end = Maze.Position(maze.get('end').get('row'), maze.get('end').get('col'))\n",
        "  maze = Maze(maze_structure, start,end)\n",
        "  print(maze)\n",
        "  mazes.append(maze)\n",
        "\n",
        "for maze in mazes:\n",
        "  print(maze.solution)"
      ],
      "metadata": {
        "colab": {
          "base_uri": "https://localhost:8080/"
        },
        "id": "8afZHA7QfvGU",
        "outputId": "387105af-d7c1-4165-be20-d111c21db8d4"
      },
      "execution_count": 2,
      "outputs": [
        {
          "output_type": "stream",
          "name": "stdout",
          "text": [
            "{'mazes': [{'structure': [[1, 1, 1, 1], [0, 0, 1, 0], [1, 1, 1, 1]], 'start': {'row': 0, 'col': 0}, 'end': {'row': 2, 'col': 0}}, {'structure': [[1, 0, 1, 0, 0, 0, 1], [1, 1, 1, 1, 0, 0, 1], [0, 0, 1, 0, 0, 0, 1], [1, 1, 1, 1, 1, 1, 1]], 'start': {'row': 0, 'col': 6}, 'end': {'row': 1, 'col': 3}}]}\n",
            "XXXXXX\n",
            "X*   X\n",
            "Xxx xX\n",
            "X*   X\n",
            "XXXXXX\n",
            "\n",
            "XXXXXXXXX\n",
            "X x xxx*X\n",
            "X   *xx X\n",
            "Xxx xxx X\n",
            "X       X\n",
            "XXXXXXXXX\n",
            "\n",
            "popping off stack\n",
            "[Position(row=0, col=0), Position(row=0, col=1), Position(row=0, col=2), Position(row=1, col=2), Position(row=2, col=2), Position(row=2, col=1), Position(row=2, col=0)]\n",
            "popping off stack\n",
            "popping off stack\n",
            "popping off stack\n",
            "popping off stack\n",
            "popping off stack\n",
            "popping off stack\n",
            "[Position(row=0, col=6), Position(row=1, col=6), Position(row=2, col=6), Position(row=3, col=6), Position(row=3, col=5), Position(row=3, col=4), Position(row=3, col=3), Position(row=3, col=2), Position(row=2, col=2), Position(row=1, col=2), Position(row=1, col=3)]\n"
          ]
        }
      ]
    },
    {
      "cell_type": "markdown",
      "source": [
        "#List Comprehension and Generators"
      ],
      "metadata": {
        "id": "ge5em-k5rWMk"
      }
    },
    {
      "cell_type": "code",
      "source": [
        "squares = [x**2 for x in range(10)]\n",
        "print(squares)\n",
        "\n",
        "data = [[1,2,3],[4,5,6],[7,8,9]]\n",
        "\n",
        "flat = [elem for inner_list in data for elem in inner_list]\n",
        "\n",
        "print(flat)\n",
        "\n",
        "import math\n",
        "sqrts = {math.sqrt(x) for x in range(10)}\n",
        "print(sqrts)"
      ],
      "metadata": {
        "colab": {
          "base_uri": "https://localhost:8080/"
        },
        "id": "YwVNsEZ4rT30",
        "outputId": "1c889713-5bc0-4e55-e82c-db27d4fd5fb9"
      },
      "execution_count": 6,
      "outputs": [
        {
          "output_type": "stream",
          "name": "stdout",
          "text": [
            "[0, 1, 4, 9, 16, 25, 36, 49, 64, 81]\n",
            "[1, 2, 3, 4, 5, 6, 7, 8, 9]\n",
            "{0.0, 1.0, 2.0, 1.7320508075688772, 1.4142135623730951, 2.23606797749979, 2.449489742783178, 2.6457513110645907, 2.8284271247461903, 3.0}\n"
          ]
        }
      ]
    },
    {
      "cell_type": "code",
      "source": [
        "import math\n",
        "def fib():\n",
        "  a, b = 0, 1\n",
        "  while True:\n",
        "    yield a\n",
        "    a, b = b, b+a\n",
        "\n",
        "gen = fib()\n",
        "\n",
        "for i in gen:\n",
        "  if i > 9000:\n",
        "    break\n",
        "  print(i)\n",
        "\n",
        "\n",
        "import itertools\n",
        "print(list(itertools.islice(fib(), 20)))"
      ],
      "metadata": {
        "colab": {
          "base_uri": "https://localhost:8080/"
        },
        "id": "iEGsLK-6mpyq",
        "outputId": "56282975-e8dd-401c-fcde-454ab085d8dd"
      },
      "execution_count": 21,
      "outputs": [
        {
          "output_type": "stream",
          "name": "stdout",
          "text": [
            "0\n",
            "1\n",
            "1\n",
            "2\n",
            "3\n",
            "5\n",
            "8\n",
            "13\n",
            "21\n",
            "34\n",
            "55\n",
            "89\n",
            "144\n",
            "233\n",
            "377\n",
            "610\n",
            "987\n",
            "1597\n",
            "2584\n",
            "4181\n",
            "6765\n",
            "[0, 1, 1, 2, 3, 5, 8, 13, 21, 34, 55, 89, 144, 233, 377, 610, 987, 1597, 2584, 4181]\n"
          ]
        }
      ]
    }
  ]
}