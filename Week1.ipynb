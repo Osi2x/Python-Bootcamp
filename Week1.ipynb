{
  "nbformat": 4,
  "nbformat_minor": 0,
  "metadata": {
    "colab": {
      "provenance": [],
      "toc_visible": true,
      "authorship_tag": "ABX9TyMagdeS7oiOkQXWSmH3FEMq",
      "include_colab_link": true
    },
    "kernelspec": {
      "name": "python3",
      "display_name": "Python 3"
    },
    "language_info": {
      "name": "python"
    }
  },
  "cells": [
    {
      "cell_type": "markdown",
      "metadata": {
        "id": "view-in-github",
        "colab_type": "text"
      },
      "source": [
        "<a href=\"https://colab.research.google.com/github/Osi2x/Python-Bootcamp/blob/main/Week1.ipynb\" target=\"_parent\"><img src=\"https://colab.research.google.com/assets/colab-badge.svg\" alt=\"Open In Colab\"/></a>"
      ]
    },
    {
      "cell_type": "code",
      "execution_count": null,
      "metadata": {
        "id": "9vZCr1_ftetg"
      },
      "outputs": [],
      "source": []
    },
    {
      "cell_type": "code",
      "source": [
        "import requests\n",
        "\n",
        "response = requests.get('https://uselessfacts.jsph.pl/random.json')\n",
        "\n",
        "print(response.text)\n"
      ],
      "metadata": {
        "colab": {
          "base_uri": "https://localhost:8080/"
        },
        "id": "0f1gQt7otl_X",
        "outputId": "e06f21c7-656c-4804-9ce0-472789ac639c"
      },
      "execution_count": null,
      "outputs": [
        {
          "output_type": "stream",
          "name": "stdout",
          "text": [
            "{\"id\":\"e671e6b390a0839003407c61833e89c2\",\"text\":\"The name of all continents in the world end with the same letter that they start with.\",\"source\":\"djtech.net\",\"source_url\":\"http://www.djtech.net/humor/useless_facts.htm\",\"language\":\"en\",\"permalink\":\"https://uselessfacts.jsph.pl/api/v2/facts/e671e6b390a0839003407c61833e89c2\"}\n",
            "\n"
          ]
        }
      ]
    },
    {
      "cell_type": "markdown",
      "source": [
        "Below we go through a variation of the above code. in this example we define our query parameters in a seperate dictionary. These are then passed as an argument to the params parameter of requests.get()\n",
        "\n",
        "We also use response.json() instead of response.text to get the response data as a dictionary.\n",
        "\n",
        "Python dictionaries have a .get() method that can be used to grapb a particulare element, such as 'text'(this value depends on the API we are consuming)"
      ],
      "metadata": {
        "id": "rOAoA0ChMor-"
      }
    },
    {
      "cell_type": "code",
      "source": [
        "query_parameters={\n",
        "    'language': 'en'\n",
        "}\n",
        "\n",
        "print(requests.get('https://uselessfacts.jsph.pl/random.json', params=query_parameters).json().get('text'))\n",
        "\n"
      ],
      "metadata": {
        "colab": {
          "base_uri": "https://localhost:8080/"
        },
        "id": "0OnnzHAf2LfI",
        "outputId": "4ff195ee-3918-4ee6-d339-45976d2eb3fd"
      },
      "execution_count": null,
      "outputs": [
        {
          "output_type": "stream",
          "name": "stdout",
          "text": [
            "It has NEVER rained in Calama, a town in the Atacama Desert of Chile.\n"
          ]
        }
      ]
    },
    {
      "cell_type": "markdown",
      "source": [
        "#Data Structers\n",
        "The important onces are **lists**, **dictionaries**, and **sets**.\n"
      ],
      "metadata": {
        "id": "xz9WE-lCOQS_"
      }
    },
    {
      "cell_type": "code",
      "source": [
        "data = ['Osi', 'You']\n",
        "print(data)\n",
        "data.append('Jimmy')\n",
        "data.append(['hello'])\n",
        "data.append(5)\n",
        "\n",
        "print(data)\n"
      ],
      "metadata": {
        "colab": {
          "base_uri": "https://localhost:8080/"
        },
        "id": "-RsQkZxENu5Y",
        "outputId": "df6fb3f2-778e-4445-a64d-70d5c4bc8771"
      },
      "execution_count": null,
      "outputs": [
        {
          "output_type": "stream",
          "name": "stdout",
          "text": [
            "['Osi', 'You']\n",
            "['Osi', 'You', 'Jimmy', ['hello'], 5]\n"
          ]
        }
      ]
    },
    {
      "cell_type": "markdown",
      "source": [
        "##List Slicing\n",
        "First number 0 starting postion (inclusive).  \n",
        "Second number - stopping postion (exclusive).  \n",
        "Third number - step."
      ],
      "metadata": {
        "id": "_t5HF_BpQiRm"
      }
    },
    {
      "cell_type": "code",
      "source": [
        "data = ['Caleb', 'Jimmy', 'Samantha', 'Osi', 'Monica']\n",
        "\n",
        "data[1:4:2]"
      ],
      "metadata": {
        "colab": {
          "base_uri": "https://localhost:8080/"
        },
        "id": "OxtTQIc6P1-b",
        "outputId": "5a74ec44-001d-40b1-e27c-03e3f83d279e"
      },
      "execution_count": null,
      "outputs": [
        {
          "output_type": "execute_result",
          "data": {
            "text/plain": [
              "['Jimmy', 'Osi']"
            ]
          },
          "metadata": {},
          "execution_count": 51
        }
      ]
    },
    {
      "cell_type": "markdown",
      "source": [
        "##Dicitionaries and Sets\n"
      ],
      "metadata": {
        "id": "xFZWp7eLRJrm"
      }
    },
    {
      "cell_type": "code",
      "source": [
        "data = {'Caleb', 'Jimmy', 'Samantha', 'Osi', 'Monica', 'Caleb'}\n",
        "\n",
        "data_dictionary = {\n",
        "    'Caleb' : 5,\n",
        "    'Jimmy' : 10,\n",
        "    'Samantha' : 12,\n",
        "    'Osi' : 20,\n",
        "    'Monica' : 22,\n",
        "    'Caleb' : 4\n",
        "}\n",
        "\n",
        "print(data)\n",
        "print(data_dictionary)\n",
        "print(data_dictionary.get('Caleb'))"
      ],
      "metadata": {
        "colab": {
          "base_uri": "https://localhost:8080/"
        },
        "id": "5SUjmArEQ8Ek",
        "outputId": "7c67605c-d096-4962-ba4d-6265a23f2fb3"
      },
      "execution_count": null,
      "outputs": [
        {
          "output_type": "stream",
          "name": "stdout",
          "text": [
            "{'Monica', 'Caleb', 'Samantha', 'Jimmy', 'Osi'}\n",
            "{'Caleb': 4, 'Jimmy': 10, 'Samantha': 12, 'Osi': 20, 'Monica': 22}\n",
            "4\n"
          ]
        }
      ]
    },
    {
      "cell_type": "markdown",
      "source": [
        "#Control Flow - Loops and Condtionals\n",
        "\n",
        "Iteration- one time through teh loop."
      ],
      "metadata": {
        "id": "YkxGJk_QRIcd"
      }
    },
    {
      "cell_type": "code",
      "source": [
        "data = ['a', 'b', 'c', 'd', 'e']\n",
        "\n",
        "for i in range(10):\n",
        "  print(i, end= \" \")\n",
        "\n",
        "print(\" \")\n",
        "for letter in data:\n",
        "  print(letter, end=\" \")\n",
        "\n",
        "print(\" \")\n",
        "for i, letter in enumerate(data):\n",
        " print(i,letter, end=\" \")\n",
        "\n"
      ],
      "metadata": {
        "colab": {
          "base_uri": "https://localhost:8080/"
        },
        "id": "UspeGf-BU33J",
        "outputId": "0448441f-91c1-4280-9c62-37ce9ddcd5a5"
      },
      "execution_count": null,
      "outputs": [
        {
          "output_type": "stream",
          "name": "stdout",
          "text": [
            "0 1 2 3 4 5 6 7 8 9  \n",
            "a b c d e  \n",
            "0 a 1 b 2 c 3 d 4 e "
          ]
        }
      ]
    },
    {
      "cell_type": "code",
      "source": [
        "data = ['a', 'b', 'c', 'd', 'e']\n",
        "\n",
        "i = 0\n",
        "\n",
        "while i < len(data):\n",
        "  print (data[i], end=\" \")\n",
        "  i += 1\n",
        "\n",
        "while True:\n",
        "  x = input()                  # \"=\" is used to assign a value\n",
        "                               # \"==\" is used to compare two values\n",
        "  if x == \"stop\":\n",
        "    break\n",
        "  elif x == \"special\":\n",
        "    continue\n",
        "  else:\n",
        "    print(\"it wasnt stop or special\")\n",
        "  print(\"printing data...\")\n",
        "\n"
      ],
      "metadata": {
        "colab": {
          "base_uri": "https://localhost:8080/"
        },
        "id": "UzLt1GxxY56g",
        "outputId": "8b642965-e425-4a09-ff15-b5edf050eaa7"
      },
      "execution_count": null,
      "outputs": [
        {
          "name": "stdout",
          "output_type": "stream",
          "text": [
            "a b c d e hi\n",
            "it wasnt stop or special\n",
            "printing data...\n",
            "special\n",
            "hello\n",
            "it wasnt stop or special\n",
            "printing data...\n",
            "stop\n"
          ]
        }
      ]
    },
    {
      "cell_type": "code",
      "source": [
        "data_dictionary = {\n",
        "    'Caleb' : 5,\n",
        "    'Jimmy' : 10,\n",
        "    'Samantha' : 12,\n",
        "    'Osi' : 20,\n",
        "    'Monica' : 22,\n",
        "    'Caleb' : 4\n",
        "}\n",
        "\n",
        "for key, value in data_dictionary.items():\n",
        "  if value == 20:\n",
        "    print(key, \"is number 20\")\n",
        "    break\n",
        "\n",
        "  print(key, value)"
      ],
      "metadata": {
        "colab": {
          "base_uri": "https://localhost:8080/"
        },
        "id": "DtakiEloatHy",
        "outputId": "c576ddc8-c125-4cc8-f44a-5989bc4450fc"
      },
      "execution_count": null,
      "outputs": [
        {
          "output_type": "stream",
          "name": "stdout",
          "text": [
            "Caleb 4\n",
            "Jimmy 10\n",
            "Samantha 12\n",
            "Osi is number 20\n"
          ]
        }
      ]
    },
    {
      "cell_type": "markdown",
      "source": [
        "# Guessing Game\n",
        "\n",
        "Generate a random number -- random module\n",
        "\n",
        "do while - python doesnt have this built in. #Do while is something that will execute at least once.    \n",
        "do something once -- possibly repeat it.  \n",
        "ask us for a number. if we get it wrong, ask again.\n",
        "\n",
        "logic for right/wrong: guessed == correct value"
      ],
      "metadata": {
        "id": "BPdr4r3gdtE4"
      }
    },
    {
      "cell_type": "code",
      "source": [
        "from random import randint\n",
        "low = 0\n",
        "high = 100\n",
        "\n",
        "correct = randint(low, high)\n",
        "print(f'Guess a number between {low} and {high}.')\n",
        "\n",
        "while True:\n",
        "  guess = int(input())\n",
        "\n",
        "  if guess < correct:\n",
        "    print(\"Guess Higher\")\n",
        "\n",
        "  elif guess > correct:\n",
        "      print(\"Guess Lower\")\n",
        "\n",
        "  else:\n",
        "    print(\"YOU WIN\")\n",
        "    break\n",
        "\n",
        "\n",
        "\n"
      ],
      "metadata": {
        "colab": {
          "base_uri": "https://localhost:8080/"
        },
        "id": "6BTtgJAoeBQz",
        "outputId": "cfaccc2f-21e5-404e-ecba-09d4300e66fb"
      },
      "execution_count": null,
      "outputs": [
        {
          "output_type": "stream",
          "name": "stdout",
          "text": [
            "Guess a number between 0 and 100.\n",
            "50\n",
            "Guess Higher\n",
            "65\n",
            "Guess Lower\n",
            "51\n",
            "Guess Higher\n",
            "55\n",
            "Guess Higher\n",
            "60\n",
            "Guess Higher\n",
            "61\n",
            "Guess Higher\n",
            "62\n",
            "YOU WIN\n"
          ]
        }
      ]
    },
    {
      "cell_type": "code",
      "source": [
        "print(\"Done!\")"
      ],
      "metadata": {
        "id": "OseOJM7kfFVk"
      },
      "execution_count": null,
      "outputs": []
    }
  ]
}